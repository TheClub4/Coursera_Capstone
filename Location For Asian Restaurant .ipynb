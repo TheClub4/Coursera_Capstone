{
    "cells": [
        {
            "cell_type": "markdown",
            "metadata": {
                "collapsed": true
            },
            "source": "# Strategic Location for Establishing an Asian Restaurant"
        },
        {
            "cell_type": "markdown",
            "metadata": {},
            "source": "## Table of Contents\n\n1.   Introduction\n2.   Data\n3.   Methodology\n4.   Results\n5.   Discussion \n6.   Conclusion\n\n"
        },
        {
            "cell_type": "markdown",
            "metadata": {},
            "source": "## Introduction / Business Problem"
        },
        {
            "cell_type": "markdown",
            "metadata": {},
            "source": "The success of establishing a new restaurant depends on several factors: demand, brand loyalty, quality of food, competition, and so on. In most cases, a restaurant's location plays an essential determinant for its success. Hence, it is of utmost importance to determine the most strategic for establishment.\n\nThe objective of this capstone project is locate the optimal neighborhood for operation based on the foundation of spending power, population and ethnic distribution, and number of Asian restaurants in the vicinity. I will mainly be utilising the Foursquare API and the extensive geographical and census data from Toronto's Open Data Portal."
        },
        {
            "cell_type": "markdown",
            "metadata": {},
            "source": "<h3>Business Problem:</h3> Client seeks to establish a franchised Asian restaurant in a Toronto neighborhood. Which neighborhood would appear to be the optimal and most strategic location for the business"
        },
        {
            "cell_type": "code",
            "execution_count": null,
            "metadata": {},
            "outputs": [],
            "source": ""
        }
    ],
    "metadata": {
        "kernelspec": {
            "display_name": "Python 3.6",
            "language": "python",
            "name": "python3"
        },
        "language_info": {
            "codemirror_mode": {
                "name": "ipython",
                "version": 3
            },
            "file_extension": ".py",
            "mimetype": "text/x-python",
            "name": "python",
            "nbconvert_exporter": "python",
            "pygments_lexer": "ipython3",
            "version": "3.6.9"
        }
    },
    "nbformat": 4,
    "nbformat_minor": 1
}